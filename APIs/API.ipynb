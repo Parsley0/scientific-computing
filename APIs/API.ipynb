{
 "cells": [
  {
   "cell_type": "code",
   "execution_count": null,
   "metadata": {},
   "outputs": [
    {
     "ename": "TclError",
     "evalue": "couldn't open \"images/map.gif\": no such file or directory",
     "output_type": "error",
     "traceback": [
      "\u001b[31m---------------------------------------------------------------------------\u001b[39m",
      "\u001b[31mTclError\u001b[39m                                  Traceback (most recent call last)",
      "\u001b[36mCell\u001b[39m\u001b[36m \u001b[39m\u001b[32mIn[2]\u001b[39m\u001b[32m, line 34\u001b[39m\n\u001b[32m     31\u001b[39m screen.setup(\u001b[32m1280\u001b[39m, \u001b[32m720\u001b[39m)\n\u001b[32m     32\u001b[39m screen.setworldcoordinates(-\u001b[32m180\u001b[39m, -\u001b[32m90\u001b[39m, \u001b[32m180\u001b[39m, \u001b[32m90\u001b[39m)\n\u001b[32m---> \u001b[39m\u001b[32m34\u001b[39m \u001b[43mscreen\u001b[49m\u001b[43m.\u001b[49m\u001b[43mbgpic\u001b[49m\u001b[43m(\u001b[49m\u001b[33;43m\"\u001b[39;49m\u001b[33;43mimages/map.gif\u001b[39;49m\u001b[33;43m\"\u001b[39;49m\u001b[43m)\u001b[49m\n\u001b[32m     35\u001b[39m screen.register_shape(\u001b[33m\"\u001b[39m\u001b[33mimages/iss.gif\u001b[39m\u001b[33m\"\u001b[39m)\n\u001b[32m     36\u001b[39m iss = turtle.Turtle()\n",
      "\u001b[36mFile \u001b[39m\u001b[32m~\\AppData\\Local\\Programs\\Python\\Python312\\Lib\\turtle.py:1473\u001b[39m, in \u001b[36mTurtleScreen.bgpic\u001b[39m\u001b[34m(self, picname)\u001b[39m\n\u001b[32m   1471\u001b[39m     \u001b[38;5;28;01mreturn\u001b[39;00m \u001b[38;5;28mself\u001b[39m._bgpicname\n\u001b[32m   1472\u001b[39m \u001b[38;5;28;01mif\u001b[39;00m picname \u001b[38;5;129;01mnot\u001b[39;00m \u001b[38;5;129;01min\u001b[39;00m \u001b[38;5;28mself\u001b[39m._bgpics:\n\u001b[32m-> \u001b[39m\u001b[32m1473\u001b[39m     \u001b[38;5;28mself\u001b[39m._bgpics[picname] = \u001b[38;5;28;43mself\u001b[39;49m\u001b[43m.\u001b[49m\u001b[43m_image\u001b[49m\u001b[43m(\u001b[49m\u001b[43mpicname\u001b[49m\u001b[43m)\u001b[49m\n\u001b[32m   1474\u001b[39m \u001b[38;5;28mself\u001b[39m._setbgpic(\u001b[38;5;28mself\u001b[39m._bgpic, \u001b[38;5;28mself\u001b[39m._bgpics[picname])\n\u001b[32m   1475\u001b[39m \u001b[38;5;28mself\u001b[39m._bgpicname = picname\n",
      "\u001b[36mFile \u001b[39m\u001b[32m~\\AppData\\Local\\Programs\\Python\\Python312\\Lib\\turtle.py:473\u001b[39m, in \u001b[36mTurtleScreenBase._image\u001b[39m\u001b[34m(self, filename)\u001b[39m\n\u001b[32m    469\u001b[39m \u001b[38;5;28;01mdef\u001b[39;00m\u001b[38;5;250m \u001b[39m\u001b[34m_image\u001b[39m(\u001b[38;5;28mself\u001b[39m, filename):\n\u001b[32m    470\u001b[39m \u001b[38;5;250m    \u001b[39m\u001b[33;03m\"\"\"return an image object containing the\u001b[39;00m\n\u001b[32m    471\u001b[39m \u001b[33;03m    imagedata from a gif-file named filename.\u001b[39;00m\n\u001b[32m    472\u001b[39m \u001b[33;03m    \"\"\"\u001b[39;00m\n\u001b[32m--> \u001b[39m\u001b[32m473\u001b[39m     \u001b[38;5;28;01mreturn\u001b[39;00m \u001b[43mTK\u001b[49m\u001b[43m.\u001b[49m\u001b[43mPhotoImage\u001b[49m\u001b[43m(\u001b[49m\u001b[43mfile\u001b[49m\u001b[43m=\u001b[49m\u001b[43mfilename\u001b[49m\u001b[43m,\u001b[49m\u001b[43m \u001b[49m\u001b[43mmaster\u001b[49m\u001b[43m=\u001b[49m\u001b[38;5;28;43mself\u001b[39;49m\u001b[43m.\u001b[49m\u001b[43mcv\u001b[49m\u001b[43m)\u001b[49m\n",
      "\u001b[36mFile \u001b[39m\u001b[32m~\\AppData\\Local\\Programs\\Python\\Python312\\Lib\\tkinter\\__init__.py:4140\u001b[39m, in \u001b[36mPhotoImage.__init__\u001b[39m\u001b[34m(self, name, cnf, master, **kw)\u001b[39m\n\u001b[32m   4135\u001b[39m \u001b[38;5;28;01mdef\u001b[39;00m\u001b[38;5;250m \u001b[39m\u001b[34m__init__\u001b[39m(\u001b[38;5;28mself\u001b[39m, name=\u001b[38;5;28;01mNone\u001b[39;00m, cnf={}, master=\u001b[38;5;28;01mNone\u001b[39;00m, **kw):\n\u001b[32m   4136\u001b[39m \u001b[38;5;250m    \u001b[39m\u001b[33;03m\"\"\"Create an image with NAME.\u001b[39;00m\n\u001b[32m   4137\u001b[39m \n\u001b[32m   4138\u001b[39m \u001b[33;03m    Valid resource names: data, format, file, gamma, height, palette,\u001b[39;00m\n\u001b[32m   4139\u001b[39m \u001b[33;03m    width.\"\"\"\u001b[39;00m\n\u001b[32m-> \u001b[39m\u001b[32m4140\u001b[39m     \u001b[43mImage\u001b[49m\u001b[43m.\u001b[49m\u001b[34;43m__init__\u001b[39;49m\u001b[43m(\u001b[49m\u001b[38;5;28;43mself\u001b[39;49m\u001b[43m,\u001b[49m\u001b[43m \u001b[49m\u001b[33;43m'\u001b[39;49m\u001b[33;43mphoto\u001b[39;49m\u001b[33;43m'\u001b[39;49m\u001b[43m,\u001b[49m\u001b[43m \u001b[49m\u001b[43mname\u001b[49m\u001b[43m,\u001b[49m\u001b[43m \u001b[49m\u001b[43mcnf\u001b[49m\u001b[43m,\u001b[49m\u001b[43m \u001b[49m\u001b[43mmaster\u001b[49m\u001b[43m,\u001b[49m\u001b[43m \u001b[49m\u001b[43m*\u001b[49m\u001b[43m*\u001b[49m\u001b[43mkw\u001b[49m\u001b[43m)\u001b[49m\n",
      "\u001b[36mFile \u001b[39m\u001b[32m~\\AppData\\Local\\Programs\\Python\\Python312\\Lib\\tkinter\\__init__.py:4087\u001b[39m, in \u001b[36mImage.__init__\u001b[39m\u001b[34m(self, imgtype, name, cnf, master, **kw)\u001b[39m\n\u001b[32m   4085\u001b[39m \u001b[38;5;28;01mfor\u001b[39;00m k, v \u001b[38;5;129;01min\u001b[39;00m cnf.items():\n\u001b[32m   4086\u001b[39m     options = options + (\u001b[33m'\u001b[39m\u001b[33m-\u001b[39m\u001b[33m'\u001b[39m+k, v)\n\u001b[32m-> \u001b[39m\u001b[32m4087\u001b[39m \u001b[38;5;28;43mself\u001b[39;49m\u001b[43m.\u001b[49m\u001b[43mtk\u001b[49m\u001b[43m.\u001b[49m\u001b[43mcall\u001b[49m\u001b[43m(\u001b[49m\u001b[43m(\u001b[49m\u001b[33;43m'\u001b[39;49m\u001b[33;43mimage\u001b[39;49m\u001b[33;43m'\u001b[39;49m\u001b[43m,\u001b[49m\u001b[43m \u001b[49m\u001b[33;43m'\u001b[39;49m\u001b[33;43mcreate\u001b[39;49m\u001b[33;43m'\u001b[39;49m\u001b[43m,\u001b[49m\u001b[43m \u001b[49m\u001b[43mimgtype\u001b[49m\u001b[43m,\u001b[49m\u001b[43m \u001b[49m\u001b[43mname\u001b[49m\u001b[43m,\u001b[49m\u001b[43m)\u001b[49m\u001b[43m \u001b[49m\u001b[43m+\u001b[49m\u001b[43m \u001b[49m\u001b[43moptions\u001b[49m\u001b[43m)\u001b[49m\n\u001b[32m   4088\u001b[39m \u001b[38;5;28mself\u001b[39m.name = name\n",
      "\u001b[31mTclError\u001b[39m: couldn't open \"images/map.gif\": no such file or directory"
     ]
    },
    {
     "ename": "",
     "evalue": "",
     "output_type": "error",
     "traceback": [
      "\u001b[1;31mThe Kernel crashed while executing code in the current cell or a previous cell. \n",
      "\u001b[1;31mPlease review the code in the cell(s) to identify a possible cause of the failure. \n",
      "\u001b[1;31mClick <a href='https://aka.ms/vscodeJupyterKernelCrash'>here</a> for more info. \n",
      "\u001b[1;31mView Jupyter <a href='command:jupyter.viewOutput'>log</a> for further details."
     ]
    }
   ],
   "source": [
    "import requests\n",
    "import json\n",
    "import turtle\n",
    "import urllib.request\n",
    "import time\n",
    "import webbrowser\n",
    "import geocoder\n",
    "\n",
    "\n",
    "url = \"http://api.open-notify.org/astros.json\"\n",
    "response = urllib.request.urlopen(url)\n",
    "result = json.loads(response.read())\n",
    "\n",
    "file = open(\"iss.txt\", \"w\")\n",
    "file.write(\"There are currently \" +\n",
    "            str(result[\"number\"]) + \" astronauts on the ISS: \\n\\n\")\n",
    "people = result[\"people\"]\n",
    "\n",
    "\n",
    "for p in people:\n",
    "    file.write(p['name'] + \" - on board\" + \"\\n\")\n",
    "\n",
    "g = geocoder.ip('me')\n",
    "file.write(\"\\nYour current lat / long is: \" + str(g.latlng))\n",
    "file.close()\n",
    "\n",
    "\n",
    "webbrowser.open(\"iss.txt\")\n",
    "\n",
    "screen = turtle.Screen()\n",
    "screen.setup(1280, 720)\n",
    "screen.setworldcoordinates(-180, -90, 180, 90)\n",
    "\n",
    "screen.bgpic(\"images/map.gif\")\n",
    "screen.register_shape(\"images/iss.gif\")\n",
    "iss = turtle.Turtle()\n",
    "iss.shape(\"images/iss.gif\")\n",
    "iss.setheading(45)\n",
    "iss.penup()\n",
    "\n",
    "while True:\n",
    "   \n",
    "    url = \"http://api.open-notify.org/iss-now.json\"\n",
    "    response = urllib.request.urlopen(url)\n",
    "    result = json.loads(response.read())\n",
    "\n",
    "    location = result[\"iss_position\"]\n",
    "    lat = location['latitude']\n",
    "    lon = location['longitude']\n",
    "\n",
    "    lat = float(lat)\n",
    "    lon = float(lon)\n",
    "    print(\"\\nLatitude: \" + str(lat))\n",
    "    print(\"\\nLongitude: \" + str(lon))\n",
    "\n",
    "    iss.goto(lon, lat)\n",
    "\n",
    "    time.sleep(5)\n"
   ]
  }
 ],
 "metadata": {
  "kernelspec": {
   "display_name": ".venv",
   "language": "python",
   "name": "python3"
  },
  "language_info": {
   "codemirror_mode": {
    "name": "ipython",
    "version": 3
   },
   "file_extension": ".py",
   "mimetype": "text/x-python",
   "name": "python",
   "nbconvert_exporter": "python",
   "pygments_lexer": "ipython3",
   "version": "3.12.1"
  }
 },
 "nbformat": 4,
 "nbformat_minor": 2
}
